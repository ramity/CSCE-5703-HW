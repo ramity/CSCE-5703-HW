{
 "cells": [
  {
   "cell_type": "markdown",
   "id": "d3b5ee7e-d596-42ea-8304-3f821c826c41",
   "metadata": {},
   "source": [
    "# Import required dependencies"
   ]
  },
  {
   "cell_type": "code",
   "execution_count": null,
   "id": "e111aebe-38a3-4893-8e40-fe65a9c141e0",
   "metadata": {},
   "outputs": [],
   "source": [
    "import numpy\n",
    "import cv2\n",
    "import glob\n",
    "import matplotlib\n",
    "import matplotlib.pyplot as plt\n",
    "plt.rcParams['figure.figsize'] = [30, 15]"
   ]
  },
  {
   "cell_type": "markdown",
   "id": "8ee4d6b2-7533-49e9-b4ca-aaed33904c58",
   "metadata": {
    "tags": []
   },
   "source": [
    "# Q1.1"
   ]
  },
  {
   "cell_type": "markdown",
   "id": "7f9eeae2-ead7-4721-b58c-cb87734273af",
   "metadata": {},
   "source": [
    "Discuss effects of the following parameters:\n",
    "- $\\sigma_{x}$\n",
    "    - higher values lead to smoother images/less entropy at edges\n",
    "- $\\sigma_{\\sigma^{'}}$\n",
    "    - Lower values focus on smaller area\n",
    "    - Higher values allow more effect from neighboring pixels\n",
    "- $k$\n",
    "    - Higher k leads to smaller gradient value\n",
    "        - R is positive with high magnitude for a corner\n",
    "        - R is negaitve with high magnitude for an edge\n",
    "        - R is near 0 in areas with low change"
   ]
  },
  {
   "cell_type": "code",
   "execution_count": null,
   "id": "4e593bb8-30b7-44ba-addb-a5292917c27a",
   "metadata": {},
   "outputs": [],
   "source": [
    "def generate_gradient_matrix(src, blockSize, ksize, k):\n",
    "\n",
    "    src_size_y, src_size_x = src.shape\n",
    "    scored_image_gradient = numpy.zeros(src.shape)\n",
    "    gradient_x = cv2.Sobel(src, cv2.CV_32F, 1, 0, ksize=ksize)\n",
    "    gradient_y = cv2.Sobel(src, cv2.CV_32F, 0, 1, ksize=ksize)\n",
    "    gradient_xx = numpy.square(gradient_x)\n",
    "    gradient_yy = numpy.square(gradient_y)\n",
    "    gradient_xy = numpy.multiply(gradient_x, gradient_y)\n",
    "\n",
    "    for y in range(src_size_y):\n",
    "        for x in range(src_size_x):\n",
    "            M = numpy.zeros((2, 2))\n",
    "\n",
    "            ymin = int(max(0, y - blockSize / 2))\n",
    "            ymax = int(min(src_size_y, y + blockSize / 2))\n",
    "            xmin = int(max(0, x - blockSize / 2))\n",
    "            xmax = int(min(src_size_x, x + blockSize / 2))\n",
    "\n",
    "            for v in range(ymin, ymax):\n",
    "                for u in range(xmin, xmax):\n",
    "                    M[0, 0] += gradient_xx[v, u]\n",
    "                    M[0, 1] += gradient_xy[v, u]\n",
    "                    M[1, 1] += gradient_yy[v, u]\n",
    "                    M[1, 0] = M[0, 1]\n",
    "\n",
    "            scored_image_gradient[y, x] = numpy.linalg.det(M) - k * (numpy.trace(M) ** 2)\n",
    "\n",
    "    return scored_image_gradient\n",
    "\n",
    "\n",
    "\n",
    "def harris(src, blockSize, ksize, k):\n",
    "    return generate_gradient_matrix(src, blockSize, ksize, k)\n",
    "\n",
    "\n",
    "filepath = './homework2/objets/objet1.jpg'\n",
    "bgr_image = cv2.imread(filepath)\n",
    "rgb_image = cv2.cvtColor(bgr_image, cv2.COLOR_BGR2RGB)\n",
    "gray = cv2.cvtColor(bgr_image, cv2.COLOR_BGR2GRAY)\n",
    "gray_blur = cv2.GaussianBlur(gray, (5, 5), 1)\n",
    "gray_normalized = numpy.float32(gray_blur)\n",
    "gray_normalized /= 255\n",
    "features = harris(gray_normalized, 2, 3, 0.04)\n",
    "cv2.imwrite('./images/q1_2_heatmap.jpg', features)"
   ]
  },
  {
   "cell_type": "code",
   "execution_count": null,
   "id": "fea277b7-b717-4776-9fb1-25269459bae6",
   "metadata": {},
   "outputs": [],
   "source": [
    "rgb_image[features > 0.4 * features.max()] = [255, 0, 0]\n",
    "cv2.imwrite('./images/q1_2_corners.jpg', cv2.cvtColor(rgb_image, cv2.COLOR_RGB2BGR))"
   ]
  },
  {
   "cell_type": "code",
   "execution_count": null,
   "id": "27b6d8f5-c404-4c33-9469-0789624b1269",
   "metadata": {},
   "outputs": [],
   "source": [
    "plt.imshow(features, cmap='gray')"
   ]
  },
  {
   "cell_type": "code",
   "execution_count": null,
   "id": "2db602a0-7fe9-4a57-81aa-ee49ccdb4bf9",
   "metadata": {},
   "outputs": [],
   "source": [
    "plt.imshow(rgb_image)"
   ]
  },
  {
   "cell_type": "code",
   "execution_count": null,
   "id": "98e310e8-81e8-4c61-938e-6c212a611f8b",
   "metadata": {},
   "outputs": [],
   "source": [
    "sift = cv2.SIFT_create()\n",
    "bf = cv2.BFMatcher()\n",
    "template_paths = glob.glob('./homework2/objets/*.jpg')\n",
    "scene_paths = glob.glob('./homework2/images_test/*.jpg')\n",
    "\n",
    "for scene_path in scene_paths:\n",
    "    \n",
    "    scene_bgr_image = cv2.imread(scene_path)\n",
    "    scene_rgb_image = cv2.cvtColor(scene_bgr_image, cv2.COLOR_BGR2RGB)\n",
    "    scene_gray_image = cv2.cvtColor(scene_bgr_image, cv2.COLOR_BGR2GRAY)\n",
    "    scene_gray_blur_image = cv2.GaussianBlur(scene_gray_image, (5, 5), 1)\n",
    "    scene_keypoints, scene_descriptors = sift.detectAndCompute(scene_gray_blur_image, None)\n",
    "\n",
    "    \n",
    "    for template_path in template_paths:\n",
    "        \n",
    "        template_bgr_image = cv2.imread(template_path)\n",
    "        template_rgb_image = cv2.cvtColor(template_bgr_image, cv2.COLOR_BGR2RGB)\n",
    "        template_gray_image = cv2.cvtColor(template_bgr_image, cv2.COLOR_BGR2GRAY)\n",
    "        template_gray_blur_image = cv2.GaussianBlur(template_gray_image, (5, 5), 1)\n",
    "        template_keypoints, template_descriptors = sift.detectAndCompute(template_gray_image, None)\n",
    "        \n",
    "        knn_matches = bf.knnMatch(template_descriptors, scene_descriptors, k = 2)\n",
    "        good = []\n",
    "        for m, n in knn_matches:\n",
    "            if m.distance < 0.8 * n.distance:\n",
    "                good.append([m])\n",
    "\n",
    "\n",
    "        img3 = cv2.drawMatchesKnn(template_rgb_image, template_keypoints, scene_rgb_image, scene_keypoints, good, None, flags = cv2.DrawMatchesFlags_NOT_DRAW_SINGLE_POINTS)\n",
    "        plt.imshow(img3)\n",
    "        plt.show()"
   ]
  },
  {
   "cell_type": "code",
   "execution_count": null,
   "id": "9d12af21-0bdd-4a20-91fb-2e4f506b997a",
   "metadata": {},
   "outputs": [],
   "source": [
    "sift = cv2.SIFT_create()\n",
    "bf = cv2.BFMatcher()\n",
    "\n",
    "\n",
    "template_paths = []\n",
    "scene_paths = []\n",
    "template_paths += glob.glob('./homework2/objets/*.jpg')\n",
    "template_paths += glob.glob('./homework2/extra_objets/*.jpg')\n",
    "scene_paths += glob.glob('./homework2/images_test/*.jpg')\n",
    "scene_paths += glob.glob('./homework2/extra_test/*.jpg')\n",
    "\n",
    "\n",
    "for scene_path in scene_paths:\n",
    "    \n",
    "    scene_bgr_image = cv2.imread(scene_path)\n",
    "    scene_rgb_image = cv2.cvtColor(scene_bgr_image, cv2.COLOR_BGR2RGB)\n",
    "    scene_gray_image = cv2.cvtColor(scene_bgr_image, cv2.COLOR_BGR2GRAY)\n",
    "    scene_keypoints, scene_descriptors = sift.detectAndCompute(scene_gray_image, None)\n",
    "\n",
    "\n",
    "    for template_path in template_paths:\n",
    "        \n",
    "        template_bgr_image = cv2.imread(template_path)\n",
    "        template_rgb_image = cv2.cvtColor(template_bgr_image, cv2.COLOR_BGR2RGB)\n",
    "        template_gray_image = cv2.cvtColor(template_bgr_image, cv2.COLOR_BGR2GRAY)\n",
    "        template_keypoints, template_descriptors = sift.detectAndCompute(template_gray_image, None)\n",
    "        \n",
    "        knn_matches = bf.knnMatch(template_descriptors, scene_descriptors, k = 2)\n",
    "        good = []\n",
    "        for m, n in knn_matches:\n",
    "            if m.distance < 0.8 * n.distance:\n",
    "                good.append([m])\n",
    "\n",
    "\n",
    "        img3 = cv2.drawMatchesKnn(template_rgb_image, template_keypoints, scene_rgb_image, scene_keypoints, good, None)\n",
    "        plt.imshow(img3)\n",
    "        plt.show()\n",
    "        \n",
    "        \n",
    "        output_path = './q3_2_match' + str(scene_paths.index(scene_path)) + '.jpg'\n",
    "        cv2.imwrite(output_path, img3)"
   ]
  },
  {
   "cell_type": "code",
   "execution_count": null,
   "id": "87af7a33-bfbd-4d86-99e3-0a3a05272bbc",
   "metadata": {},
   "outputs": [],
   "source": []
  }
 ],
 "metadata": {
  "kernelspec": {
   "display_name": "Python 3 (ipykernel)",
   "language": "python",
   "name": "python3"
  },
  "language_info": {
   "codemirror_mode": {
    "name": "ipython",
    "version": 3
   },
   "file_extension": ".py",
   "mimetype": "text/x-python",
   "name": "python",
   "nbconvert_exporter": "python",
   "pygments_lexer": "ipython3",
   "version": "3.10.2"
  }
 },
 "nbformat": 4,
 "nbformat_minor": 5
}
